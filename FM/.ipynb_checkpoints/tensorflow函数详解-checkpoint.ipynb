{
 "cells": [
  {
   "cell_type": "markdown",
   "metadata": {},
   "source": [
    "# tensorflow常用函数详解\n",
    "\n",
    "\n",
    "# tf.constant()，声明一个常量\n",
    "```constant(\n",
    "    value,\n",
    "    dtype=None,\n",
    "    shape=None,\n",
    "    name='Const',\n",
    "    verify_shape=False\n",
    ")\n",
    "```"
   ]
  },
  {
   "cell_type": "code",
   "execution_count": 2,
   "metadata": {},
   "outputs": [
    {
     "name": "stdout",
     "output_type": "stream",
     "text": [
      "Tensor(\"Const:0\", shape=(5,), dtype=int64)\n"
     ]
    }
   ],
   "source": [
    "import tensorflow as tf\n",
    "heads = tf.constant([0, 1, 3, 4, 5], dtype=tf.int64)\n",
    "print(heads)"
   ]
  },
  {
   "cell_type": "markdown",
   "metadata": {},
   "source": [
    "# tf.one_hot()，生成一组以one_hot方式表示的tensor\n",
    "```\n",
    "one_hot(\n",
    "    indices,\n",
    "    depth,\n",
    "    on_value=None,\n",
    "    off_value=None,\n",
    "    axis=None,\n",
    "    dtype=None,\n",
    "    name=None\n",
    ")\n",
    "```\n",
    "\n",
    "为防止出错，depth与indices中的数据的数量应当一致。\n"
   ]
  },
  {
   "cell_type": "code",
   "execution_count": 3,
   "metadata": {},
   "outputs": [
    {
     "name": "stdout",
     "output_type": "stream",
     "text": [
      "Tensor(\"one_hot:0\", shape=(5, 5), dtype=float32)\n"
     ]
    }
   ],
   "source": [
    "heads = tf.constant([0, 1, 3, 4, 5], dtype=tf.int64)\n",
    "num_entities = 5\n",
    "one_hot = tf.one_hot(indices=heads, depth=num_entities)\n",
    "print(one_hot)"
   ]
  },
  {
   "cell_type": "markdown",
   "metadata": {},
   "source": [
    "# tf.nn.embedding_lookup()\n",
    "\n",
    "\n",
    "tf.nn.embedding_lookup函数的用法主要是选取一个张量里面索引对应的元素。tf.nn.embedding_lookup（tensor, id）:tensor就是输入张量，id就是张量对应\n",
    "\n",
    "的索引，其他的参数不介绍。\n",
    "\n",
    "\n",
    "```\n",
    "tf.nn.embedding_lookup\n",
    "\n",
    "embedding_lookup(\n",
    "    params,\n",
    "    ids,\n",
    "    partition_strategy='mod',\n",
    "    name=None,\n",
    "    validate_indices=True,\n",
    "    max_norm=None\n",
    ")\n",
    "```\n",
    "在只考虑前两个参数，后面参数默认的情况下，params是指embedding表，ids指的是要进行embedding的tensor.\n",
    "\n"
   ]
  },
  {
   "cell_type": "code",
   "execution_count": 4,
   "metadata": {},
   "outputs": [
    {
     "name": "stdout",
     "output_type": "stream",
     "text": [
      "queries\n",
      "[[0 9 2]\n",
      " [1 9 4]\n",
      " [1 2 4]\n",
      " [3 6 8]\n",
      " [1 1 8]]\n",
      "query_embedding\n",
      "[[-0.50659893  0.86218184]\n",
      " [ 0.78642092  0.61769097]\n",
      " [ 0.99999574  0.00292011]\n",
      " [ 0.98882536  0.14907855]\n",
      " [ 0.4039954  -0.91476102]\n",
      " [ 0.53845273  0.84265572]\n",
      " [-0.70844171 -0.70576933]\n",
      " [ 0.27370811 -0.96181281]\n",
      " [-0.9985222   0.05434537]\n",
      " [-0.87548428  0.4832466 ]]\n",
      "inputs\n",
      "[[[-0.50659893  0.86218184]\n",
      "  [-0.87548428  0.4832466 ]\n",
      "  [ 0.99999574  0.00292011]]\n",
      "\n",
      " [[ 0.78642092  0.61769097]\n",
      "  [-0.87548428  0.4832466 ]\n",
      "  [ 0.4039954  -0.91476102]]\n",
      "\n",
      " [[ 0.78642092  0.61769097]\n",
      "  [ 0.99999574  0.00292011]\n",
      "  [ 0.4039954  -0.91476102]]\n",
      "\n",
      " [[ 0.98882536  0.14907855]\n",
      "  [-0.70844171 -0.70576933]\n",
      "  [-0.9985222   0.05434537]]\n",
      "\n",
      " [[ 0.78642092  0.61769097]\n",
      "  [ 0.78642092  0.61769097]\n",
      "  [-0.9985222   0.05434537]]]\n"
     ]
    }
   ],
   "source": [
    "import tensorflow as tf\n",
    "import numpy as np\n",
    "\n",
    "\n",
    "def _random_uniform_unit(r, c):\n",
    "    \"\"\" Initialize random and unit row norm matrix of size (r, c). \"\"\"\n",
    "    bound = 6. / np.sqrt(c)\n",
    "    init_matrix = np.random.uniform(-bound, bound, (r, c))\n",
    "    init_matrix = np.array(list(map(lambda row: row / np.linalg.norm(row), init_matrix)))\n",
    "    return init_matrix\n",
    "\n",
    "\n",
    "queries = np.random.randint(0, 10, size=[5, 3])\n",
    "query_embedding = _random_uniform_unit(10, 2)\n",
    "\n",
    "print(\"queries\\n{}\".format(queries))\n",
    "print(\"query_embedding\\n{}\".format(query_embedding))\n",
    "\n",
    "inputs = tf.nn.embedding_lookup(query_embedding, queries)\n",
    "\n",
    "sess = tf.Session()\n",
    "print(\"inputs\")\n",
    "print(sess.run(inputs))"
   ]
  },
  {
   "cell_type": "markdown",
   "metadata": {},
   "source": [
    "# tf.split()\n",
    "\n",
    "```\n",
    "split(\n",
    "    value,\n",
    "    num_or_size_splits,\n",
    "    axis=0,\n",
    "    num=None,\n",
    "    name='split'\n",
    ")\n",
    "```\n",
    "考虑前3个参数，后面两个默认\n",
    "\n",
    "\n",
    "将value在第axis上分成num_or_size_splits个，举例如下\n",
    "\n"
   ]
  },
  {
   "cell_type": "code",
   "execution_count": 6,
   "metadata": {},
   "outputs": [
    {
     "name": "stdout",
     "output_type": "stream",
     "text": [
      "[[2 0 0 3 2 0 0 3]\n",
      " [1 3 4 0 4 0 4 4]\n",
      " [0 0 1 3 4 2 1 2]\n",
      " [4 3 4 0 4 0 3 0]\n",
      " [4 4 2 0 4 2 2 4]]\n"
     ]
    }
   ],
   "source": [
    "matrix = np.random.randint(0, 5, size=[5, 8])\n",
    "#默认axis=0\n",
    "split0, split1 = tf.split(matrix, [2, 3]) \n",
    "sess = tf.Session()\n",
    "print(matrix)\n"
   ]
  },
  {
   "cell_type": "code",
   "execution_count": 7,
   "metadata": {},
   "outputs": [
    {
     "name": "stdout",
     "output_type": "stream",
     "text": [
      "[[2 0 0 3 2 0 0 3]\n",
      " [1 3 4 0 4 0 4 4]]\n"
     ]
    }
   ],
   "source": [
    "print(sess.run(split0)) #shape=[2,8]\n"
   ]
  },
  {
   "cell_type": "code",
   "execution_count": 8,
   "metadata": {},
   "outputs": [
    {
     "name": "stdout",
     "output_type": "stream",
     "text": [
      "[[0 0 1 3 4 2 1 2]\n",
      " [4 3 4 0 4 0 3 0]\n",
      " [4 4 2 0 4 2 2 4]]\n"
     ]
    }
   ],
   "source": [
    "print(sess.run(split1)) #shape=[3,8]"
   ]
  },
  {
   "cell_type": "code",
   "execution_count": 9,
   "metadata": {},
   "outputs": [
    {
     "name": "stdout",
     "output_type": "stream",
     "text": [
      "[[[3 1 2 2 4 2 2 1]\n",
      "  [4 0 3 3 2 4 2 0]\n",
      "  [1 0 4 2 2 2 2 0]\n",
      "  [3 1 4 3 4 1 3 4]]\n",
      "\n",
      " [[1 2 4 2 4 3 0 3]\n",
      "  [1 3 3 4 2 4 1 0]\n",
      "  [3 0 1 3 1 4 2 4]\n",
      "  [0 4 3 3 3 0 3 3]]\n",
      "\n",
      " [[1 4 2 2 3 4 0 2]\n",
      "  [4 3 0 4 1 3 1 0]\n",
      "  [2 3 4 0 1 3 3 1]\n",
      "  [1 1 4 1 0 4 3 0]]\n",
      "\n",
      " [[1 3 2 2 0 4 0 4]\n",
      "  [3 1 4 1 3 3 0 4]\n",
      "  [3 3 2 0 1 2 3 0]\n",
      "  [2 3 3 2 0 3 4 0]]\n",
      "\n",
      " [[1 3 3 0 2 2 3 3]\n",
      "  [4 3 0 2 0 4 4 4]\n",
      "  [0 4 1 4 0 3 1 4]\n",
      "  [3 2 2 3 4 4 0 4]]]\n"
     ]
    }
   ],
   "source": [
    "matrix = np.random.randint(0, 5, size=[5, 4, 8])\n",
    "print(matrix)\n"
   ]
  },
  {
   "cell_type": "code",
   "execution_count": 10,
   "metadata": {},
   "outputs": [
    {
     "name": "stdout",
     "output_type": "stream",
     "text": [
      "[[[3 1 2 2 4 2 2 1]\n",
      "  [4 0 3 3 2 4 2 0]]\n",
      "\n",
      " [[1 2 4 2 4 3 0 3]\n",
      "  [1 3 3 4 2 4 1 0]]\n",
      "\n",
      " [[1 4 2 2 3 4 0 2]\n",
      "  [4 3 0 4 1 3 1 0]]\n",
      "\n",
      " [[1 3 2 2 0 4 0 4]\n",
      "  [3 1 4 1 3 3 0 4]]\n",
      "\n",
      " [[1 3 3 0 2 2 3 3]\n",
      "  [4 3 0 2 0 4 4 4]]]\n"
     ]
    }
   ],
   "source": [
    "split0, split1 = tf.split(matrix, 2, axis=1)\n",
    "sess = tf.Session()\n",
    "print(sess.run(split0))\n"
   ]
  },
  {
   "cell_type": "code",
   "execution_count": 11,
   "metadata": {},
   "outputs": [
    {
     "name": "stdout",
     "output_type": "stream",
     "text": [
      "[[[1 0 4 2 2 2 2 0]\n",
      "  [3 1 4 3 4 1 3 4]]\n",
      "\n",
      " [[3 0 1 3 1 4 2 4]\n",
      "  [0 4 3 3 3 0 3 3]]\n",
      "\n",
      " [[2 3 4 0 1 3 3 1]\n",
      "  [1 1 4 1 0 4 3 0]]\n",
      "\n",
      " [[3 3 2 0 1 2 3 0]\n",
      "  [2 3 3 2 0 3 4 0]]\n",
      "\n",
      " [[0 4 1 4 0 3 1 4]\n",
      "  [3 2 2 3 4 4 0 4]]]\n"
     ]
    }
   ],
   "source": [
    "print(sess.run(split1))"
   ]
  },
  {
   "cell_type": "markdown",
   "metadata": {},
   "source": [
    "# tf.concat()\n",
    "\n",
    "tf.concat是连接两个矩阵的操作\n",
    "\n",
    "```\n",
    "concat(\n",
    "    values,\n",
    "    axis,\n",
    "    name='concat'\n",
    ")\n",
    "```"
   ]
  },
  {
   "cell_type": "code",
   "execution_count": 12,
   "metadata": {},
   "outputs": [
    {
     "name": "stdout",
     "output_type": "stream",
     "text": [
      "Tensor(\"concat:0\", shape=(4, 3), dtype=int32)\n",
      "Tensor(\"concat_1:0\", shape=(2, 6), dtype=int32)\n"
     ]
    }
   ],
   "source": [
    "t1 = [[1, 2, 3], [4, 5, 6]]\n",
    "t2 = [[7, 8, 9], [10, 11, 12]]\n",
    "t3=tf.concat([t1, t2], 0)  # [[1, 2, 3], [4, 5, 6], [7, 8, 9], [10, 11, 12]]\n",
    "t4=tf.concat([t1, t2], 1)  # [[1, 2, 3, 7, 8, 9], [4, 5, 6, 10, 11, 12]]\n",
    "print(t3)\n",
    "print(t4)\n"
   ]
  },
  {
   "cell_type": "markdown",
   "metadata": {},
   "source": [
    "# tf.truncated_normal()\n",
    "\n",
    "```\n",
    "truncated_normal(\n",
    "    shape,\n",
    "    mean=0.0,\n",
    "    stddev=1.0,\n",
    "    dtype=tf.float32,\n",
    "    seed=None,\n",
    "    name=None\n",
    ")\n",
    "```\n",
    "\n",
    "生成一个tuple，tuple.shape = shape。\n",
    "\n",
    "取值是以mean为均值，stddev(standard deviation)为标准差的正态分布，且随机取值。\n",
    "\n",
    "tf.truncated_normal(shape, mean, stddev) :shape表示生成张量的维度，mean是均值，stddev是标准差。这个函数产生正太分布，均值和标准差自己设定。\n",
    "\n",
    "这是一个截断的产生正太分布的函数，就是说产生正太分布的值如果与均值的差值大于两倍的标准差，那就重新生成。和一般的正太分布的产生随机数据比起来，\n",
    "\n",
    "这个函数产生的随机数与均值的差距不会超过两倍的标准差，但是一般的别的函数是可能的。\n"
   ]
  },
  {
   "cell_type": "code",
   "execution_count": 13,
   "metadata": {},
   "outputs": [
    {
     "name": "stdout",
     "output_type": "stream",
     "text": [
      "[[ 0.36291823  0.69577539  0.37229574  0.43990654  0.43294677]\n",
      " [ 0.46238714  0.4962815   0.66823184  0.53613651  0.39618683]\n",
      " [ 0.55069262  0.53702849  0.43533373  0.65101898  0.49242783]\n",
      " [ 0.60998058  0.58885223  0.48825184  0.38201338  0.58919722]\n",
      " [ 0.58712125  0.49823886  0.58972383  0.51738495  0.52442694]]\n"
     ]
    }
   ],
   "source": [
    "matrix = tf.truncated_normal([5, 5], mean=0.5, stddev=0.1)\n",
    "sess = tf.Session()\n",
    "print(sess.run(matrix))\n"
   ]
  },
  {
   "cell_type": "markdown",
   "metadata": {},
   "source": [
    "# tf.shape()\n",
    "\n",
    "```\n",
    "shape(\n",
    "    input,\n",
    "    name=None,\n",
    "    out_type=tf.int32\n",
    ")\n",
    "```"
   ]
  },
  {
   "cell_type": "code",
   "execution_count": 14,
   "metadata": {},
   "outputs": [
    {
     "data": {
      "text/plain": [
       "<tf.Tensor 'Shape:0' shape=(3,) dtype=int32>"
      ]
     },
     "execution_count": 14,
     "metadata": {},
     "output_type": "execute_result"
    }
   ],
   "source": [
    "t = tf.constant([[[1, 1, 1], [2, 2, 2]], [[3, 3, 3], [4, 4, 4]]])\n",
    "tf.shape(t)  # [2, 2, 3]"
   ]
  },
  {
   "cell_type": "markdown",
   "metadata": {},
   "source": [
    "# tf.expand_dims()\n",
    "\n",
    "```\n",
    "expand_dims(\n",
    "    input,\n",
    "    axis=None,\n",
    "    name=None,\n",
    "    dim=None\n",
    ")\n",
    "```"
   ]
  },
  {
   "cell_type": "code",
   "execution_count": 16,
   "metadata": {},
   "outputs": [
    {
     "data": {
      "text/plain": [
       "<tf.Tensor 'Shape_8:0' shape=(4,) dtype=int32>"
      ]
     },
     "execution_count": 16,
     "metadata": {},
     "output_type": "execute_result"
    }
   ],
   "source": [
    "# 't' is a tensor of shape [2]\n",
    "tf.shape(tf.expand_dims(t, 0))  # [1, 2]\n",
    "tf.shape(tf.expand_dims(t, 1))  # [2, 1]\n",
    "tf.shape(tf.expand_dims(t, -1))  # [2, 1]\n",
    "\n"
   ]
  },
  {
   "cell_type": "markdown",
   "metadata": {},
   "source": [
    "# tf.stack()\n",
    "\n",
    "```\n",
    "stack(\n",
    "    values,\n",
    "    axis=0,\n",
    "    name='stack'\n",
    ")\n",
    "```"
   ]
  },
  {
   "cell_type": "code",
   "execution_count": 17,
   "metadata": {},
   "outputs": [
    {
     "name": "stdout",
     "output_type": "stream",
     "text": [
      "Tensor(\"stack_1:0\", shape=(2, 3, 3), dtype=int32)\n"
     ]
    }
   ],
   "source": [
    "a=[[1,2,3],\n",
    "   [4,5,6]]\n",
    "b=[[1,2,3],\n",
    "   [4,5,6]]\n",
    "c=[[1,2,3],\n",
    "   [4,5,6]]\n",
    "#这里也可以用np.stack((a,b,c),axis=2)\n",
    "d=tf.stack((a,b,c),axis=2)\n",
    "\n",
    "print(d)\n",
    "a=[[1,2,3],\n",
    "   [4,5,6]]\n",
    "b=[[1,2,3],\n",
    "   [4,5,6]]\n",
    "c=[[1,2,3],\n",
    "   [4,5,6]]\n",
    "#这里也可以用np.stack((a,b,c),axis=2)\n",
    "d=tf.stack((a,b,c),axis=2)\n",
    "\n",
    "print(d)\n",
    "\n",
    "#d\n",
    "# [[[1 1 1]\n",
    "#   [2 2 2]\n",
    "#   [3 3 3]]\n",
    "\n",
    "#  [[4 4 4]\n",
    "#   [5 5 5]\n",
    "#   [6 6 6]]]"
   ]
  },
  {
   "cell_type": "markdown",
   "metadata": {},
   "source": [
    "# tf.squeeze()\n",
    "\n",
    "去掉维度为1的维\n",
    "\n",
    "```\n",
    "squeeze(\n",
    "    input,\n",
    "    axis=None,\n",
    "    name=None,\n",
    "    squeeze_dims=None\n",
    ")\n",
    "```"
   ]
  },
  {
   "cell_type": "markdown",
   "metadata": {},
   "source": [
    "# SparseTensorValue(indices, values, dense_shape)\n",
    "\n",
    "\n",
    "生成一个稀疏张量，shape=dense_shape。\n",
    "\n",
    "\n",
    "稀疏的意思是这个张量里面0很多，不是0的数（比如1）比0少的多。\n",
    "\n",
    "\n",
    "dense_shape说明了要生成的稀疏张量的维数。\n",
    "\n",
    "\n",
    "indices代表了所生成稀疏张量中不是0的数的位置。\n",
    "\n",
    "\n",
    "values中的值与indices的值一一对应，代表了不是0的数的值。\n",
    "\n",
    "\n",
    "\n"
   ]
  },
  {
   "cell_type": "code",
   "execution_count": 22,
   "metadata": {},
   "outputs": [
    {
     "data": {
      "text/plain": [
       "SparseTensorValue(indices=[[4, 1], [1, 2]], values=<tf.Tensor 'Const_9:0' shape=(2,) dtype=int32>, dense_shape=[5, 5])"
      ]
     },
     "execution_count": 22,
     "metadata": {},
     "output_type": "execute_result"
    }
   ],
   "source": [
    "tf.SparseTensorValue(\n",
    "\n",
    "    indices=[[4, 1], [1, 2]], \n",
    "\n",
    "    values=tf.constant([1, 2]), \n",
    "\n",
    "    dense_shape=[5, 5]\n",
    ")\n"
   ]
  },
  {
   "cell_type": "markdown",
   "metadata": {},
   "source": [
    "[[ 0.,  0.,  0.,  0.,  0.],\n",
    " [ 0.,  0.,  1.,  0.,  0.],\n",
    " [ 0.,  0.,  0.,  0.,  0.],\n",
    " [ 0.,  0.,  0.,  0.,  0.],\n",
    " [ 0.,  1.,  0.,  0.,  0.]]"
   ]
  },
  {
   "cell_type": "markdown",
   "metadata": {},
   "source": [
    "# 参考链接\n",
    "\n",
    "https://www.jianshu.com/p/6a43bae18a1e\n",
    "\n"
   ]
  }
 ],
 "metadata": {
  "kernelspec": {
   "display_name": "Python 3",
   "language": "python",
   "name": "python3"
  },
  "language_info": {
   "codemirror_mode": {
    "name": "ipython",
    "version": 3
   },
   "file_extension": ".py",
   "mimetype": "text/x-python",
   "name": "python",
   "nbconvert_exporter": "python",
   "pygments_lexer": "ipython3",
   "version": "3.6.5"
  }
 },
 "nbformat": 4,
 "nbformat_minor": 2
}
